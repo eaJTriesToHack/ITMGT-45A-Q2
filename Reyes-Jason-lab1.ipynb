{
 "cells": [
  {
   "cell_type": "code",
   "execution_count": 1,
   "metadata": {},
   "outputs": [
    {
     "name": "stdout",
     "output_type": "stream",
     "text": [
      "Enter the amount in US Dollars100\n",
      "100.0 US Dollar(s)= 5000.0 Philippine Pesos\n"
     ]
    }
   ],
   "source": [
    "#problem1\n",
    "def dollars_to_pesos(usd):\n",
    "    return usd*50\n",
    "usd=float(input(\"Enter the amount in US Dollars\"))\n",
    "print(usd,\"US Dollar(s)=\", dollars_to_pesos(usd), \"Philippine Pesos\")"
   ]
  },
  {
   "cell_type": "code",
   "execution_count": 2,
   "metadata": {},
   "outputs": [
    {
     "name": "stdout",
     "output_type": "stream",
     "text": [
      "First integer:1\n",
      "Second integer:2\n",
      "3\n",
      "-1\n",
      "2\n",
      "0\n",
      "1\n"
     ]
    }
   ],
   "source": [
    "#problem2\n",
    "a=int(input(\"First integer:\"))\n",
    "b=int(input(\"Second integer:\"))\n",
    "\n",
    "print(a+b)\n",
    "print(a-b)\n",
    "print(a*b)\n",
    "print(a//b)\n",
    "print(a%b)\n"
   ]
  },
  {
   "cell_type": "code",
   "execution_count": 6,
   "metadata": {},
   "outputs": [
    {
     "name": "stdout",
     "output_type": "stream",
     "text": [
      "Enter kg:40\n",
      "Enter cm:100\n",
      "BMI: 40.0\n"
     ]
    }
   ],
   "source": [
    "#problem3\n",
    "def compute_bmi(kg,m):\n",
    "    return kg/m**2\n",
    "def convert_cm_to_m(cm):\n",
    "    return cm/100\n",
    "\n",
    "kg=float(input(\"Enter kg:\"))\n",
    "cm=float(input(\"Enter cm:\"))\n",
    "m=convert_cm_to_m(cm)\n",
    "bmi=compute_bmi(kg,m)\n",
    "print(\"BMI:\", bmi)\n"
   ]
  },
  {
   "cell_type": "code",
   "execution_count": null,
   "metadata": {},
   "outputs": [],
   "source": []
  },
  {
   "cell_type": "code",
   "execution_count": null,
   "metadata": {},
   "outputs": [],
   "source": []
  }
 ],
 "metadata": {
  "kernelspec": {
   "display_name": "Python 3",
   "language": "python",
   "name": "python3"
  },
  "language_info": {
   "codemirror_mode": {
    "name": "ipython",
    "version": 3
   },
   "file_extension": ".py",
   "mimetype": "text/x-python",
   "name": "python",
   "nbconvert_exporter": "python",
   "pygments_lexer": "ipython3",
   "version": "3.8.5"
  }
 },
 "nbformat": 4,
 "nbformat_minor": 4
}
